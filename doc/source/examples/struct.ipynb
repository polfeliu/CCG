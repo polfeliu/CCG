{
 "cells": [
  {
   "cell_type": "markdown",
   "metadata": {},
   "source": [
    "# Struct\n"
   ]
  },
  {
   "cell_type": "code",
   "execution_count": 10,
   "metadata": {
    "pycharm": {
     "name": "#%%\n"
    },
    "tags": [
     "remove-cell"
    ]
   },
   "outputs": [],
   "source": [
    "import sys\n",
    "sys.path.append(\"..\\..\\..\") \n",
    "from ccg import *"
   ]
  },
  {
   "cell_type": "code",
   "execution_count": 11,
   "metadata": {
    "pycharm": {
     "name": "#%%\n"
    }
   },
   "outputs": [],
   "source": [
    "example_struct_def = CStructDef(\n",
    "    \"Examplestruct\",\n",
    "    doc=Doc(\"Example Struct\", \"This struct has many awesome members\"),\n",
    "    members=[\n",
    "        CStructDef.Member(CVariable(\"i8Title\", Cint8), doc=Doc(\"Title\")),\n",
    "        CStructDef.Member(CVariable(\"i8Asdf\", Cint8), bitfield=3, doc=Doc(\"Random variable\")),\n",
    "        CStructDef.Member(CArray(\"i8Name\", c_type=Cint8, length=3)),\n",
    "        CStructDef.Member(\n",
    "            CVariable(\"tNestedstruct\", c_type=CStructDef(\n",
    "                # This struct def is anonymous\n",
    "                is_packed=True,  # And packed\n",
    "                members=[\n",
    "                    CStructDef.Member(CVariable(\"i64Qwer\", Cint64)),\n",
    "                ]),\n",
    "                      )\n",
    "        ),\n",
    "\n",
    "        CStructDef.Member(\n",
    "            CVariable(\"tNestedstruct2\", c_type=CStructDef(\n",
    "                \"TNestedstruct2\",\n",
    "                members=[\n",
    "                    CStructDef.Member(CVariable(\"i64Qwer\", Cint64)),\n",
    "                ]).struct,\n",
    "                      # Reference the struct type, not the def, and its not declared inplace.\n",
    "                      # Assumes this struct will be defined somewhere else\n",
    "                      )\n",
    "        )\n",
    "    ])"
   ]
  },
  {
   "cell_type": "code",
   "execution_count": 12,
   "metadata": {
    "pycharm": {
     "name": "#%%\n"
    }
   },
   "outputs": [
    {
     "name": "stdout",
     "output_type": "stream",
     "text": [
      "/**\n",
      " * @brief Example Struct\n",
      " * \n",
      " * This struct has many awesome members\n",
      " */\n",
      "struct Examplestruct\n",
      "{\n",
      "\t/** @brief Title */\n",
      "\tint8_t i8Title;\n",
      "\t/** @brief Random variable */\n",
      "\tint8_t i8Asdf: 3;\n",
      "\tint8_t i8Name[3];\n",
      "\tstruct __attribute__((__packed__))\n",
      "\t{\n",
      "\t\tint8_t i64Qwer;\n",
      "\t} tNestedstruct;\n",
      "\tstruct TNestedstruct2 tNestedstruct2;\n",
      "};\n"
     ]
    }
   ],
   "source": [
    "# Declaration of struct definition\n",
    "print(example_struct_def.declaration())\n",
    "\n"
   ]
  },
  {
   "cell_type": "code",
   "execution_count": 13,
   "metadata": {},
   "outputs": [
    {
     "name": "stdout",
     "output_type": "stream",
     "text": [
      "/**\n",
      " * @brief Example Struct\n",
      " * \n",
      " * This struct has many awesome members\n",
      " */\n",
      "struct Examplestruct\n",
      "{\n",
      "\t/** @brief Title */\n",
      "\tint8_t i8Title;\n",
      "\t/** @brief Random variable */\n",
      "\tint8_t i8Asdf: 3;\n",
      "\tint8_t i8Name[3];\n",
      "\tstruct __attribute__((__packed__))\n",
      "\t{\n",
      "\t\tint8_t i64Qwer;\n",
      "\t} tNestedstruct;\n",
      "\tstruct TNestedstruct2 tNestedstruct2;\n",
      "} tInst;\n"
     ]
    }
   ],
   "source": [
    "# Can declare a struct with a variable in the same sentence\n",
    "print(CVariable(\"tInst\", c_type=example_struct_def).declaration())"
   ]
  },
  {
   "cell_type": "code",
   "execution_count": 14,
   "metadata": {},
   "outputs": [
    {
     "name": "stdout",
     "output_type": "stream",
     "text": [
      "struct Examplestruct tInst;\n"
     ]
    }
   ],
   "source": [
    "# Or assume the struct is already declared and use it as type\n",
    "print(CVariable(\"tInst\", c_type=example_struct_def.struct).declaration())"
   ]
  },
  {
   "cell_type": "code",
   "execution_count": 15,
   "metadata": {},
   "outputs": [
    {
     "name": "stdout",
     "output_type": "stream",
     "text": [
      "typedef struct Examplestruct\n",
      "{\n",
      "\t/** @brief Title */\n",
      "\tint8_t i8Title;\n",
      "\t/** @brief Random variable */\n",
      "\tint8_t i8Asdf: 3;\n",
      "\tint8_t i8Name[3];\n",
      "\tstruct __attribute__((__packed__))\n",
      "\t{\n",
      "\t\tint8_t i64Qwer;\n",
      "\t} tNestedstruct;\n",
      "\tstruct TNestedstruct2 tNestedstruct2;\n",
      "} TMyStruct;\n"
     ]
    }
   ],
   "source": [
    "# Can do a typedef of the struct with the declaration of the struct inplace\n",
    "print(example_struct_def.type(\"TMyStruct\").typedef())"
   ]
  },
  {
   "cell_type": "code",
   "execution_count": 16,
   "metadata": {},
   "outputs": [
    {
     "name": "stdout",
     "output_type": "stream",
     "text": [
      "typedef struct Examplestruct TMyStruct;\n"
     ]
    }
   ],
   "source": [
    "# Or the struct is already declared and can be typedefed afterwards\n",
    "print(example_struct_def.struct.type(\"TMyStruct\").typedef())"
   ]
  },
  {
   "cell_type": "code",
   "execution_count": 17,
   "metadata": {},
   "outputs": [],
   "source": [
    "# Third member is the packed anonymous struct, can be reobtained\n",
    "packed_struct = example_struct_def.members[3].variable.c_type\n",
    "if not isinstance(packed_struct, CStructDef):\n",
    "    raise TypeError"
   ]
  },
  {
   "cell_type": "code",
   "execution_count": 18,
   "metadata": {},
   "outputs": [
    {
     "name": "stdout",
     "output_type": "stream",
     "text": [
      "64\n"
     ]
    }
   ],
   "source": [
    "# Only packed structs have bit_sizes, calculated. CCG Cant know the size of structs with possible padding\n",
    "print(packed_struct.bit_size)"
   ]
  }
 ],
 "metadata": {
  "celltoolbar": "Edit Metadata",
  "kernelspec": {
   "display_name": "Python 3",
   "language": "python",
   "name": "python3"
  },
  "language_info": {
   "codemirror_mode": {
    "name": "ipython",
    "version": 3
   },
   "file_extension": ".py",
   "mimetype": "text/x-python",
   "name": "python",
   "nbconvert_exporter": "python",
   "pygments_lexer": "ipython3",
   "version": "3.6.5"
  }
 },
 "nbformat": 4,
 "nbformat_minor": 1
}
