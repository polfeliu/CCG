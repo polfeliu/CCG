{
 "cells": [
  {
   "cell_type": "markdown",
   "metadata": {},
   "source": [
    "# Class\n"
   ]
  },
  {
   "cell_type": "code",
   "execution_count": 1,
   "metadata": {
    "pycharm": {
     "name": "#%%\n"
    },
    "tags": [
     "remove-cell"
    ]
   },
   "outputs": [],
   "source": [
    "import sys\n",
    "sys.path.append(\"..\\..\\..\") \n",
    "from ccg import *"
   ]
  },
  {
   "cell_type": "code",
   "execution_count": 2,
   "metadata": {
    "pycharm": {
     "name": "#%%\n"
    }
   },
   "outputs": [],
   "source": [
    "base_class = CClass(\n",
    "    name=\"BaseClass\",\n",
    "    members=[\n",
    "        CClass.Constructor(arguments=[CFunction.Argument('arg', Cuint32)], access=CClass.Access.public),\n",
    "    ]\n",
    ")\n",
    "\n",
    "my_class = CClass(\n",
    "    name=\"InheritingClass\",\n",
    "    inherit_from=CClass.Inherit(base_class, access=CClass.Access.public),\n",
    "    members=[\n",
    "        CClass.Using(base_class.constructor, access=CClass.Access.public,\n",
    "                     doc=Doc(\"Constructor\", \"Reusing constructor from base class\")),\n",
    "        CClass.Method('my_method', arguments=[CFunction.Argument('hello', Cuint8)], access=CClass.Access.protected,\n",
    "                      static=True, doc=Doc(\"My Method\")),\n",
    "        CClass.Attribute('u8My_attr', Cuint8, initial_value=CLiteral(3), access=CClass.Access.private, static=True,\n",
    "                         constexpr=True, doc=Doc(\"My Attribute\")),\n",
    "        CClass.TypeMember(Cuint8.type('NewType'), access=CClass.Access.public,\n",
    "                          doc=Doc(\"New Type\", \"Defining types inside classes is awesome\")),\n",
    "        CClass.FreeStyle(\"uint8_t freestyle_member = 1;\")\n",
    "    ],\n",
    "    doc=Doc(\"Class Example\", \"This class holds methods and attributes to represent objects\")\n",
    ")"
   ]
  },
  {
   "cell_type": "code",
   "execution_count": 3,
   "metadata": {
    "pycharm": {
     "name": "#%%\n"
    }
   },
   "outputs": [
    {
     "name": "stdout",
     "output_type": "stream",
     "text": [
      "class InheritingClass;\n"
     ]
    }
   ],
   "source": [
    "print(my_class.declare().render())"
   ]
  },
  {
   "cell_type": "code",
   "execution_count": 4,
   "metadata": {
    "pycharm": {
     "name": "#%%\n"
    }
   },
   "outputs": [
    {
     "name": "stdout",
     "output_type": "stream",
     "text": [
      "/**\n",
      " * @brief Class Example\n",
      " * \n",
      " * This class holds methods and attributes to represent objects\n",
      " */\n",
      "class InheritingClass: public BaseClass\n",
      "{\n",
      "public:\n",
      "\t/**\n",
      "\t * @brief Constructor\n",
      "\t * \n",
      "\t * Reusing constructor from base class\n",
      "\t */\n",
      "\tusing BaseClass::BaseClass;\n",
      "\n",
      "\t/**\n",
      "\t * @brief New Type\n",
      "\t * \n",
      "\t * Defining types inside classes is awesome\n",
      "\t */\n",
      "\ttypedef uint8_t NewType;\n",
      "protected:\n",
      "\t/**\n",
      "\t * @brief My Method\n",
      "\t * \n",
      "\t * @param hello \n",
      "\t */\n",
      "\tstatic void \n",
      "\tmy_method(uint8_t hello);\n",
      "private:\n",
      "\t/** @brief My Attribute */\n",
      "\tstatic constexpr uint8_t u8My_attr = 3;\n",
      "\n",
      "\tuint8_t freestyle_member = 1;\n",
      "};\n"
     ]
    }
   ],
   "source": [
    "print(my_class.define().render())"
   ]
  },
  {
   "cell_type": "code",
   "execution_count": 5,
   "metadata": {},
   "outputs": [
    {
     "name": "stdout",
     "output_type": "stream",
     "text": [
      "/**\n",
      " * @brief Class Example\n",
      " * \n",
      " * This class holds methods and attributes to represent objects\n",
      " */\n",
      "class InheritingClass: public BaseClass\n",
      "{\n",
      "\t/**\n",
      "\t * @brief Constructor\n",
      "\t * \n",
      "\t * Reusing constructor from base class\n",
      "\t */\n",
      "\tpublic: using BaseClass::BaseClass;\n",
      "\n",
      "\t/**\n",
      "\t * @brief My Method\n",
      "\t * \n",
      "\t * @param hello \n",
      "\t */\n",
      "\tprotected: static void \n",
      "\tmy_method(uint8_t hello);\n",
      "\n",
      "\t/** @brief My Attribute */\n",
      "\tprivate: static constexpr uint8_t u8My_attr = 3;\n",
      "\n",
      "\t/**\n",
      "\t * @brief New Type\n",
      "\t * \n",
      "\t * Defining types inside classes is awesome\n",
      "\t */\n",
      "\tpublic: typedef uint8_t NewType;\n",
      "\n",
      "\tprivate: uint8_t freestyle_member = 1;\n",
      "};\n"
     ]
    }
   ],
   "source": [
    "style = Style()\n",
    "style.class_members = Style.ClassMembers.inline_access_preserve_order\n",
    "print(my_class.define().render(style))"
   ]
  },
  {
   "cell_type": "code",
   "execution_count": 6,
   "metadata": {},
   "outputs": [
    {
     "name": "stdout",
     "output_type": "stream",
     "text": [
      "static void InheritingClass::my_method(uint8_t hello)\n",
      "{\n",
      "\n",
      "}\n"
     ]
    }
   ],
   "source": [
    "print(my_class.all_members_definition().render())"
   ]
  },
  {
   "cell_type": "code",
   "execution_count": 7,
   "metadata": {},
   "outputs": [
    {
     "name": "stdout",
     "output_type": "stream",
     "text": [
      "InheritingClass my_instance;\n"
     ]
    }
   ],
   "source": [
    "instance = CVariable(\n",
    "    name=\"my_instance\",\n",
    "    c_type=my_class\n",
    ")\n",
    "\n",
    "print(instance.declare().render())"
   ]
  }
 ],
 "metadata": {
  "celltoolbar": "Edit Metadata",
  "kernelspec": {
   "display_name": "Python 3",
   "language": "python",
   "name": "python3"
  },
  "language_info": {
   "codemirror_mode": {
    "name": "ipython",
    "version": 3
   },
   "file_extension": ".py",
   "mimetype": "text/x-python",
   "name": "python",
   "nbconvert_exporter": "python",
   "pygments_lexer": "ipython3",
   "version": "3.6.5"
  }
 },
 "nbformat": 4,
 "nbformat_minor": 1
}