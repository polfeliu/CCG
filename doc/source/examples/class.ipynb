{
 "cells": [
  {
   "cell_type": "markdown",
   "metadata": {},
   "source": [
    "# Class\n"
   ]
  },
  {
   "cell_type": "code",
   "execution_count": 6,
   "metadata": {
    "pycharm": {
     "name": "#%%\n"
    },
    "tags": [
     "remove-cell"
    ]
   },
   "outputs": [],
   "source": [
    "from ccg import *"
   ]
  },
  {
   "cell_type": "code",
   "execution_count": 7,
   "metadata": {
    "pycharm": {
     "name": "#%%\n"
    }
   },
   "outputs": [],
   "source": [
    "base_class = CClass(\n",
    "    name=\"BaseClass\",\n",
    "    members=[\n",
    "        CClass.Constructor(arguments=[CFunction.Argument('arg', Cuint32)], access=CClass.Access.public),\n",
    "    ]\n",
    ")\n",
    "\n",
    "my_class = CClass(\n",
    "    name=\"InheritedClass\",\n",
    "    inherit_from=CClass.Inherit(base_class, access=CClass.Access.public),\n",
    "    members=[\n",
    "        CClass.Using(base_class.constructor, access=CClass.Access.public),\n",
    "        CClass.Method('my_method', arguments=[CFunction.Argument('hello', Cuint8)], access=CClass.Access.protected,\n",
    "                      static=True),\n",
    "        CClass.Attribute('u8My_attr', Cuint8, initial_value=3, access=CClass.Access.private, static=True,\n",
    "                         constexpr=True),\n",
    "        CClass.TypeMember(Cuint8.type('NewType'), access=CClass.Access.public),\n",
    "    ]\n",
    ")"
   ]
  },
  {
   "cell_type": "code",
   "execution_count": 8,
   "metadata": {
    "pycharm": {
     "name": "#%%\n"
    }
   },
   "outputs": [
    {
     "name": "stdout",
     "output_type": "stream",
     "text": [
      "class InheritedClass;\n"
     ]
    }
   ],
   "source": [
    "print(my_class.declaration())"
   ]
  },
  {
   "cell_type": "code",
   "execution_count": 9,
   "metadata": {
    "pycharm": {
     "name": "#%%\n"
    }
   },
   "outputs": [
    {
     "name": "stdout",
     "output_type": "stream",
     "text": [
      "class InheritedClass: public BaseClass\n",
      "{\n",
      "public:\n",
      "\tusing BaseClass::BaseClass\n",
      "\ttypedef uint8_t NewType;\n",
      "protected:\n",
      "\tstatic void my_method(uint8_t hello);\n",
      "private:\n",
      "\tstatic constexpr uint8_t u8My_attr = 3;\n",
      "};\n"
     ]
    }
   ],
   "source": [
    "print(my_class.definition())"
   ]
  },
  {
   "cell_type": "code",
   "execution_count": 10,
   "metadata": {},
   "outputs": [
    {
     "name": "stdout",
     "output_type": "stream",
     "text": [
      "static void InheritedClass::my_method(uint8_t hello)\n",
      "{\n",
      "\n",
      "};\n"
     ]
    }
   ],
   "source": [
    "for definition in my_class.all_members_definition():\n",
    "    print(definition)"
   ]
  }
 ],
 "metadata": {
  "celltoolbar": "Edit Metadata",
  "kernelspec": {
   "display_name": "Python 3",
   "language": "python",
   "name": "python3"
  },
  "language_info": {
   "codemirror_mode": {
    "name": "ipython",
    "version": 3
   },
   "file_extension": ".py",
   "mimetype": "text/x-python",
   "name": "python",
   "nbconvert_exporter": "python",
   "pygments_lexer": "ipython3",
   "version": "3.6.5"
  }
 },
 "nbformat": 4,
 "nbformat_minor": 1
}
