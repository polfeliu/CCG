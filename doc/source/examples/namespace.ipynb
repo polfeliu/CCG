{
 "cells": [
  {
   "cell_type": "markdown",
   "metadata": {},
   "source": [
    "# Namespace"
   ]
  },
  {
   "cell_type": "code",
   "execution_count": null,
   "metadata": {
    "pycharm": {
     "name": "#%%\n"
    }
   },
   "outputs": [],
   "source": [
    "from ccg import *\n",
    "\n",
    "ns1 = CNamespace('ns1')\n",
    "ns2 = CNamespace('ns2', in_space=ns1)"
   ]
  },
  {
   "cell_type": "code",
   "execution_count": 7,
   "metadata": {
    "pycharm": {
     "name": "#%%\n"
    }
   },
   "outputs": [],
   "source": [
    "# Declare that function is on this namespace\n",
    "fun = CFunction(name='my_fun', in_space=ns2)"
   ]
  },
  {
   "cell_type": "code",
   "execution_count": 8,
   "metadata": {
    "pycharm": {
     "name": "#%%\n"
    }
   },
   "outputs": [
    {
     "name": "stdout",
     "output_type": "stream",
     "text": [
      "void ns1::ns2::my_fun(void)\n",
      "{\n",
      "\n",
      "};\n"
     ]
    }
   ],
   "source": [
    "# When doing the definition, typically is done indicating namespace inline\n",
    "print(fun.definition())"
   ]
  },
  {
   "cell_type": "code",
   "execution_count": 9,
   "metadata": {
    "pycharm": {
     "name": "#%%\n"
    }
   },
   "outputs": [
    {
     "name": "stdout",
     "output_type": "stream",
     "text": [
      "void ns1::ns2::my_fun(void);\n"
     ]
    }
   ],
   "source": [
    "# On the declaration it can have the same format\n",
    "print(fun.declaration())"
   ]
  },
  {
   "cell_type": "code",
   "execution_count": 10,
   "metadata": {
    "pycharm": {
     "name": "#%%\n"
    }
   },
   "outputs": [
    {
     "name": "stdout",
     "output_type": "stream",
     "text": [
      "void ns2::my_fun(void);\n"
     ]
    }
   ],
   "source": [
    "# But typically the namespace is indicated with a namespace section,\n",
    "# So we can omit inline namespace by saying that we are on a namespace\n",
    "print(fun.declaration(from_space=ns1))"
   ]
  },
  {
   "cell_type": "code",
   "execution_count": 11,
   "metadata": {
    "pycharm": {
     "name": "#%%\n"
    }
   },
   "outputs": [
    {
     "name": "stdout",
     "output_type": "stream",
     "text": [
      "void my_fun(void);\n"
     ]
    }
   ],
   "source": [
    "print(fun.declaration(from_space=ns2))\n",
    "\n"
   ]
  }
 ],
 "metadata": {
  "kernelspec": {
   "display_name": "Python 3",
   "language": "python",
   "name": "python3"
  },
  "language_info": {
   "codemirror_mode": {
    "name": "ipython",
    "version": 3
   },
   "file_extension": ".py",
   "mimetype": "text/x-python",
   "name": "python",
   "nbconvert_exporter": "python",
   "pygments_lexer": "ipython3",
   "version": "3.6.5"
  }
 },
 "nbformat": 4,
 "nbformat_minor": 1
}