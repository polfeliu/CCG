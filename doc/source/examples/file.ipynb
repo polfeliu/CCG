{
 "cells": [
  {
   "cell_type": "markdown",
   "metadata": {},
   "source": [
    "# File"
   ]
  },
  {
   "cell_type": "code",
   "execution_count": 145,
   "metadata": {
    "pycharm": {
     "name": "#%%\n"
    }
   },
   "outputs": [],
   "source": [
    "import sys\n",
    "\n",
    "sys.path.append(\"..\\..\\..\")\n",
    "from ccg import *\n",
    "import os"
   ]
  },
  {
   "cell_type": "markdown",
   "source": [
    "Declare some objects that must be on the file"
   ],
   "metadata": {
    "collapsed": false,
    "pycharm": {
     "name": "#%% md\n"
    }
   }
  },
  {
   "cell_type": "code",
   "execution_count": 146,
   "outputs": [],
   "source": [
    "function = CFunction(\n",
    "    name=\"examplefun\",\n",
    "    return_type=Cuint32,\n",
    "    static=True,\n",
    "    arguments=[\n",
    "        CFunction.Argument(name=\"first\", c_type=Cuint32, doc=Doc(\"First argument\")),\n",
    "        CFunction.Argument(name=\"second\", c_type=Cdouble, default=CLiteral(2), doc=Doc(\"Second Argument\"))\n",
    "    ],\n",
    "    doc=Doc(\"Awesome function\", \"This function is awesome because it does marvellous things\",\n",
    "            ret=\"returns a lucky number\"),\n",
    "    content=CStatements([\n",
    "        CVariable(\"local_var\", Cint8).declare()\n",
    "    ])\n",
    ")\n",
    "var = CVariable(\n",
    "    c_type=Cint8,\n",
    "    name=\"i8Mycustomint\",\n",
    "    initial_value=CCast(Cint8, CLiteral(12, c_type=Cuint8, literal_format=CLiteral.Format.decimal))\n",
    ")"
   ],
   "metadata": {
    "collapsed": false,
    "pycharm": {
     "name": "#%%\n"
    }
   }
  },
  {
   "cell_type": "markdown",
   "source": [
    "Declare User Section Statements.\n",
    "These will create sections in the file where the user can edit the file and the generation of code will not overwrite those changes"
   ],
   "metadata": {
    "collapsed": false,
    "pycharm": {
     "name": "#%% md\n"
    }
   }
  },
  {
   "cell_type": "code",
   "execution_count": 147,
   "metadata": {
    "pycharm": {
     "name": "#%%\n"
    }
   },
   "outputs": [],
   "source": [
    "user_section = UserSectionStatement(\"first\")\n",
    "user_section_2 = UserSectionStatement(\"second\")"
   ]
  },
  {
   "cell_type": "markdown",
   "source": [
    "list the declarations or sections for the code"
   ],
   "metadata": {
    "collapsed": false,
    "pycharm": {
     "name": "#%% md\n"
    }
   }
  },
  {
   "cell_type": "code",
   "execution_count": 148,
   "metadata": {
    "pycharm": {
     "name": "#%%\n"
    }
   },
   "outputs": [],
   "source": [
    "declarations = CDeclarations([\n",
    "    var.declare(),\n",
    "    user_section,\n",
    "    function.declare(),\n",
    "    user_section_2\n",
    "])"
   ]
  },
  {
   "cell_type": "markdown",
   "source": [
    "and generate to a file"
   ],
   "metadata": {
    "collapsed": false,
    "pycharm": {
     "name": "#%% md\n"
    }
   }
  },
  {
   "cell_type": "code",
   "execution_count": 149,
   "metadata": {
    "pycharm": {
     "name": "#%%\n"
    }
   },
   "outputs": [],
   "source": [
    "file = File(declarations)\n",
    "file.generate(\"generated_code/test_file_output.c\")"
   ]
  }
 ],
 "metadata": {
  "celltoolbar": "Edit Metadata",
  "kernelspec": {
   "display_name": "Python 3",
   "language": "python",
   "name": "python3"
  },
  "language_info": {
   "codemirror_mode": {
    "name": "ipython",
    "version": 3
   },
   "file_extension": ".py",
   "mimetype": "text/x-python",
   "name": "python",
   "nbconvert_exporter": "python",
   "pygments_lexer": "ipython3",
   "version": "3.6.5"
  }
 },
 "nbformat": 4,
 "nbformat_minor": 1
}