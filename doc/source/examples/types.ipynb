{
 "cells": [
  {
   "cell_type": "markdown",
   "metadata": {},
   "source": [
    "# Types and Variables\n"
   ]
  },
  {
   "cell_type": "code",
   "execution_count": 2,
   "metadata": {
    "pycharm": {
     "name": "#%%\n"
    },
    "tags": [
     "remove-cell"
    ]
   },
   "outputs": [],
   "source": [
    "from ccg import *"
   ]
  },
  {
   "cell_type": "code",
   "execution_count": 13,
   "metadata": {
    "pycharm": {
     "name": "#%%\n"
    }
   },
   "outputs": [
    {
     "name": "stdout",
     "output_type": "stream",
     "text": [
      "int8_t i8Mycustomint = 4;\n"
     ]
    }
   ],
   "source": [
    "var = CVariable(\n",
    "        c_type=Cint8,\n",
    "        name=\"i8Mycustomint\",\n",
    "        initial_value=4\n",
    ")\n",
    "print(var.declaration())"
   ]
  },
  {
   "cell_type": "code",
   "execution_count": 14,
   "metadata": {},
   "outputs": [
    {
     "name": "stdout",
     "output_type": "stream",
     "text": [
      "Initial value [500] does not fit type [uint8_t]\n"
     ]
    }
   ],
   "source": [
    "try:\n",
    "    var = CVariable(\n",
    "        c_type=Cuint8,\n",
    "        name=\"i8Mycustomint_invalid\",\n",
    "        initial_value=500\n",
    "    )\n",
    "except Exception as ex:\n",
    "    print(ex)"
   ]
  },
  {
   "cell_type": "code",
   "execution_count": 15,
   "metadata": {},
   "outputs": [
    {
     "name": "stdout",
     "output_type": "stream",
     "text": [
      "int8_t i8Asdf[10];\n"
     ]
    }
   ],
   "source": [
    "array = CArray(\n",
    "    c_type=Cint8,\n",
    "    name=\"i8Asdf\",\n",
    "    length=10\n",
    ")\n",
    "\n",
    "print(array.declaration())"
   ]
  },
  {
   "cell_type": "code",
   "execution_count": 16,
   "metadata": {},
   "outputs": [
    {
     "name": "stdout",
     "output_type": "stream",
     "text": [
      "typedef int8_t TMyCustomType;\n",
      "TMyCustomType tMyVar;\n"
     ]
    }
   ],
   "source": [
    "# New type\n",
    "custom = Cint8.type('TMyCustomType')\n",
    "var = CVariable(\n",
    "    c_type=custom,\n",
    "    name=\"tMyVar\"\n",
    ")\n",
    "print(custom.typedef())\n",
    "print(var.declaration())"
   ]
  },
  {
   "cell_type": "code",
   "execution_count": 17,
   "metadata": {},
   "outputs": [
    {
     "name": "stdout",
     "output_type": "stream",
     "text": [
      "static uint8_t u8Var;\n"
     ]
    }
   ],
   "source": [
    "# Static\n",
    "var = CVariable(c_type=Cuint8, name=\"u8Var\", static=True)\n",
    "print(var.declaration())"
   ]
  },
  {
   "cell_type": "code",
   "execution_count": 18,
   "metadata": {},
   "outputs": [
    {
     "name": "stdout",
     "output_type": "stream",
     "text": [
      "static const uint8_t u8Var;\n"
     ]
    }
   ],
   "source": [
    "# Static and const\n",
    "var = CVariable(c_type=Cuint8, name=\"u8Var\", static=True, const=True)\n",
    "print(var.declaration())"
   ]
  },
  {
   "cell_type": "code",
   "execution_count": 19,
   "metadata": {},
   "outputs": [
    {
     "name": "stdout",
     "output_type": "stream",
     "text": [
      "constexpr uint8_t u8Var;\n"
     ]
    }
   ],
   "source": [
    "# Constexpr\n",
    "var = CVariable(c_type=Cuint8, name=\"u8Var\", constexpr=True)\n",
    "print(var.declaration())"
   ]
  }
 ],
 "metadata": {
  "celltoolbar": "Edit Metadata",
  "kernelspec": {
   "display_name": "Python 3",
   "language": "python",
   "name": "python3"
  },
  "language_info": {
   "codemirror_mode": {
    "name": "ipython",
    "version": 3
   },
   "file_extension": ".py",
   "mimetype": "text/x-python",
   "name": "python",
   "nbconvert_exporter": "python",
   "pygments_lexer": "ipython3",
   "version": "3.6.5"
  }
 },
 "nbformat": 4,
 "nbformat_minor": 1
}
