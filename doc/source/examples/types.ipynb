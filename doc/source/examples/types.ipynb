{
 "cells": [
  {
   "cell_type": "markdown",
   "metadata": {},
   "source": [
    "# Types and Variables\n"
   ]
  },
  {
   "cell_type": "code",
   "execution_count": 1,
   "metadata": {
    "pycharm": {
     "name": "#%%\n"
    },
    "tags": [
     "remove-cell"
    ]
   },
   "outputs": [],
   "source": [
    "import sys\n",
    "sys.path.append(\"..\\..\\..\") \n",
    "from ccg import *"
   ]
  },
  {
   "cell_type": "code",
   "execution_count": 2,
   "metadata": {
    "pycharm": {
     "name": "#%%\n"
    }
   },
   "outputs": [
    {
     "name": "stdout",
     "output_type": "stream",
     "text": [
      "/** @brief My Custom Int8 */\n",
      "int8_t i8Mycustomint = 4;\n"
     ]
    }
   ],
   "source": [
    "var = CVariable(\n",
    "        c_type=Cint8,\n",
    "        name=\"i8Mycustomint\",\n",
    "        initial_value=CLiteral(4),\n",
    "        doc=Doc(\"My Custom Int8\")\n",
    ")\n",
    "print(var.declare().render())"
   ]
  },
  {
   "cell_type": "code",
   "execution_count": 3,
   "metadata": {},
   "outputs": [
    {
     "name": "stdout",
     "output_type": "stream",
     "text": [
      "/**\n",
      " * @brief My Custom Int8 Array\n",
      " * \n",
      " * This array is awesome because it can hold 10 int8\n",
      " */\n",
      "int8_t i8Asdf[10];\n"
     ]
    }
   ],
   "source": [
    "array = CArray(\n",
    "    c_type=Cint8,\n",
    "    name=\"i8Asdf\",\n",
    "    length=10,\n",
    "    doc=Doc(\"My Custom Int8 Array\", \"This array is awesome because it can hold 10 int8\")\n",
    ")\n",
    "\n",
    "print(array.declare().render())"
   ]
  },
  {
   "cell_type": "code",
   "execution_count": 4,
   "metadata": {
    "scrolled": true
   },
   "outputs": [
    {
     "name": "stdout",
     "output_type": "stream",
     "text": [
      "/**\n",
      " * @brief My Custom Type\n",
      " * \n",
      " * Awesome type because I have defined it\n",
      " */\n",
      "typedef int8_t TMyCustomType;\n",
      "TMyCustomType tMyVar;\n"
     ]
    }
   ],
   "source": [
    "# New type\n",
    "custom = Cint8.type('TMyCustomType')\n",
    "var = CVariable(\n",
    "    c_type=custom,\n",
    "    name=\"tMyVar\"\n",
    ")\n",
    "print(custom.typedef(doc=Doc(\"My Custom Type\", \"Awesome type because I have defined it\")).render())\n",
    "print(var.declare().render())"
   ]
  },
  {
   "cell_type": "code",
   "execution_count": 5,
   "metadata": {
    "scrolled": true
   },
   "outputs": [
    {
     "name": "stdout",
     "output_type": "stream",
     "text": [
      "static uint8_t u8Var;\n"
     ]
    }
   ],
   "source": [
    "# Static\n",
    "var = CVariable(c_type=Cuint8, name=\"u8Var\", static=True)\n",
    "print(var.declare().render())"
   ]
  },
  {
   "cell_type": "code",
   "execution_count": 6,
   "metadata": {},
   "outputs": [
    {
     "name": "stdout",
     "output_type": "stream",
     "text": [
      "static const uint8_t u8Var;\n"
     ]
    }
   ],
   "source": [
    "# Static and const\n",
    "var = CVariable(c_type=Cuint8, name=\"u8Var\", static=True, const=True)\n",
    "print(var.declare().render())"
   ]
  },
  {
   "cell_type": "code",
   "execution_count": 7,
   "metadata": {},
   "outputs": [
    {
     "name": "stdout",
     "output_type": "stream",
     "text": [
      "constexpr uint8_t u8Var;\n"
     ]
    }
   ],
   "source": [
    "# Constexpr\n",
    "var = CVariable(c_type=Cuint8, name=\"u8Var\", constexpr=True)\n",
    "print(var.declare().render())"
   ]
  }
 ],
 "metadata": {
  "celltoolbar": "Edit Metadata",
  "kernelspec": {
   "display_name": "Python 3",
   "language": "python",
   "name": "python3"
  },
  "language_info": {
   "codemirror_mode": {
    "name": "ipython",
    "version": 3
   },
   "file_extension": ".py",
   "mimetype": "text/x-python",
   "name": "python",
   "nbconvert_exporter": "python",
   "pygments_lexer": "ipython3",
   "version": "3.6.5"
  }
 },
 "nbformat": 4,
 "nbformat_minor": 1
}