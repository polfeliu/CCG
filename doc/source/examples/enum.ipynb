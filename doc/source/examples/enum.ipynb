{
 "cells": [
  {
   "cell_type": "markdown",
   "metadata": {},
   "source": [
    "# Enum\n"
   ]
  },
  {
   "cell_type": "code",
   "execution_count": null,
   "metadata": {
    "pycharm": {
     "name": "#%%\n",
     "is_executing": true
    },
    "tags": [
     "remove-cell"
    ]
   },
   "outputs": [],
   "source": [
    "import sys\n",
    "\n",
    "sys.path.append(\"..\\..\\..\")\n",
    "from ccg import *"
   ]
  },
  {
   "cell_type": "code",
   "execution_count": null,
   "outputs": [],
   "source": [
    "enum = CEnum(\n",
    "    members=[\n",
    "        CEnum.Member(\"first\"),\n",
    "        CEnum.Member(\"second\"),\n",
    "        CEnum.Member(\"third\", value=CLiteral(10))\n",
    "    ],\n",
    "    name=\"my_enum\",\n",
    "    doc=Doc(\"Enumeration Example\", \"contains members\")\n",
    ")"
   ],
   "metadata": {
    "collapsed": false,
    "pycharm": {
     "name": "#%%\n",
     "is_executing": true
    }
   }
  },
  {
   "cell_type": "code",
   "execution_count": null,
   "outputs": [],
   "source": [
    "print(enum.declare().render())"
   ],
   "metadata": {
    "collapsed": false,
    "pycharm": {
     "name": "#%%\n",
     "is_executing": true
    }
   }
  },
  {
   "cell_type": "code",
   "execution_count": null,
   "metadata": {
    "pycharm": {
     "name": "#%%\n",
     "is_executing": true
    }
   },
   "outputs": [],
   "source": [
    "enum = CEnum(\n",
    "    members=[\n",
    "        CEnum.Member(\"first\"),\n",
    "        CEnum.Member(\"second\"),\n",
    "        CEnum.Member(\"third\", value=CLiteral(10))\n",
    "    ],\n",
    "    name=\"my_enum\",\n",
    "    key=CEnum.Key.enum_class,\n",
    "    base_type=Cuint16,\n",
    "    in_space=CNamespace(\"my_ns\"),\n",
    "    doc=Doc(\"Enumeration Example\", \"contains members\")\n",
    ")"
   ]
  },
  {
   "cell_type": "code",
   "execution_count": null,
   "metadata": {
    "pycharm": {
     "name": "#%%\n",
     "is_executing": true
    }
   },
   "outputs": [],
   "source": [
    "print(enum.declare().render())"
   ]
  }
 ],
 "metadata": {
  "celltoolbar": "Edit Metadata",
  "kernelspec": {
   "display_name": "Python 3",
   "language": "python",
   "name": "python3"
  },
  "language_info": {
   "codemirror_mode": {
    "name": "ipython",
    "version": 3
   },
   "file_extension": ".py",
   "mimetype": "text/x-python",
   "name": "python",
   "nbconvert_exporter": "python",
   "pygments_lexer": "ipython3",
   "version": "3.6.5"
  }
 },
 "nbformat": 4,
 "nbformat_minor": 1
}