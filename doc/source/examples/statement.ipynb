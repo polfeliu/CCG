{
 "cells": [
  {
   "cell_type": "markdown",
   "metadata": {},
   "source": [
    "# Statement\n"
   ]
  },
  {
   "cell_type": "code",
   "execution_count": 9,
   "metadata": {
    "pycharm": {
     "name": "#%%\n"
    },
    "tags": [
     "remove-cell"
    ]
   },
   "outputs": [],
   "source": [
    "from ccg import *"
   ]
  },
  {
   "cell_type": "code",
   "execution_count": 10,
   "metadata": {},
   "outputs": [],
   "source": [
    "var = CVariable(\"u32My_var\", Cuint32, initial_value=5)\n",
    "array = CArray(\"u8My_array\", Cuint8, length=10)\n",
    "statements = CStatements([\n",
    "    # Cstatements only allow variable declaration and manipulation\n",
    "    var.declare(),\n",
    "    array.declare()\n",
    "])"
   ]
  },
  {
   "cell_type": "code",
   "execution_count": 11,
   "metadata": {},
   "outputs": [
    {
     "name": "stdout",
     "output_type": "stream",
     "text": [
      "uint32_t u32My_var = 5;\n",
      "uint8_t u8My_array[10];\n",
      "\n"
     ]
    }
   ],
   "source": [
    "print(statements.render())\n"
   ]
  },
  {
   "cell_type": "code",
   "execution_count": 12,
   "metadata": {},
   "outputs": [
    {
     "name": "stdout",
     "output_type": "stream",
     "text": [
      "void my_fun(void);\n",
      "void my_fun(void)\n",
      "{\n",
      "\n",
      "};\n",
      "\n"
     ]
    }
   ],
   "source": [
    "fun = CFunction(\"my_fun\")\n",
    "declarations = CDeclarations([\n",
    "    # Declarations include declarations of variable, function, class... etc\n",
    "    fun.declare(),\n",
    "    fun.define()\n",
    "])\n",
    "\n",
    "print(declarations.render())"
   ]
  }
 ],
 "metadata": {
  "celltoolbar": "Edit Metadata",
  "kernelspec": {
   "display_name": "Python 3",
   "language": "python",
   "name": "python3"
  },
  "language_info": {
   "codemirror_mode": {
    "name": "ipython",
    "version": 3
   },
   "file_extension": ".py",
   "mimetype": "text/x-python",
   "name": "python",
   "nbconvert_exporter": "python",
   "pygments_lexer": "ipython3",
   "version": "3.6.5"
  }
 },
 "nbformat": 4,
 "nbformat_minor": 1
}
