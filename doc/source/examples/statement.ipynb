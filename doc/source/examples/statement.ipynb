{
 "cells": [
  {
   "cell_type": "markdown",
   "metadata": {},
   "source": [
    "# Statement\n"
   ]
  },
  {
   "cell_type": "code",
   "metadata": {
    "pycharm": {
     "name": "#%%\n"
    },
    "tags": [
     "remove-cell"
    ]
   },
   "source": [
    "import sys\n",
    "sys.path.append(\"..\\..\\..\") \n",
    "from ccg import *"
   ],
   "execution_count": 11,
   "outputs": []
  },
  {
   "cell_type": "markdown",
   "source": [
    "To group statements there is a CStatements object"
   ],
   "metadata": {
    "collapsed": false,
    "pycharm": {
     "name": "#%% md\n"
    }
   }
  },
  {
   "cell_type": "code",
   "execution_count": 12,
   "metadata": {},
   "outputs": [],
   "source": [
    "var = CVariable(\"u32My_var\", Cuint32, initial_value=CLiteral(5))\n",
    "array = CArray(\"u8My_array\", Cuint8, length=10)\n",
    "statements = CStatements([\n",
    "    var.declare(),\n",
    "    array.declare(),\n",
    "\n",
    "    # Statements can also contain other statements\n",
    "    CStatements([\n",
    "        CVariable(\"u8Var\", Cuint8, initial_value=CLiteral(3)).declare()\n",
    "    ])\n",
    "])"
   ]
  },
  {
   "cell_type": "code",
   "execution_count": 13,
   "metadata": {},
   "outputs": [
    {
     "name": "stdout",
     "output_type": "stream",
     "text": [
      "uint32_t u32My_var = 5;\n",
      "uint8_t u8My_array[10];\n",
      "uint8_t u8Var = 3;\n"
     ]
    }
   ],
   "source": [
    "print(statements.render())"
   ]
  },
  {
   "cell_type": "markdown",
   "source": [
    "Declarations include declarations and definitions of variable, function, class... etc\n",
    "but not other statements (if, while, ...)"
   ],
   "metadata": {
    "collapsed": false,
    "pycharm": {
     "name": "#%% md\n"
    }
   }
  },
  {
   "cell_type": "code",
   "execution_count": 14,
   "outputs": [],
   "source": [
    "fun = CFunction(\"my_fun\")\n",
    "declarations = CDeclarations([\n",
    "    # Declarations include declarations and definitions of variable, function, class... etc\n",
    "    # But not other statements (if, while, ...)\n",
    "    fun.declare(),\n",
    "    fun.define()\n",
    "])"
   ],
   "metadata": {
    "collapsed": false,
    "pycharm": {
     "name": "#%%\n"
    }
   }
  },
  {
   "cell_type": "code",
   "execution_count": 15,
   "metadata": {},
   "outputs": [
    {
     "name": "stdout",
     "output_type": "stream",
     "text": [
      "void \n",
      "my_fun(void);\n",
      "void my_fun(void)\n",
      "{\n",
      "\n",
      "}\n"
     ]
    }
   ],
   "source": [
    "print(declarations.render())"
   ]
  },
  {
   "cell_type": "markdown",
   "metadata": {},
   "source": []
  },
  {
   "cell_type": "code",
   "execution_count": 16,
   "metadata": {},
   "outputs": [
    {
     "name": "stdout",
     "output_type": "stream",
     "text": [
      "if (true)\n",
      "{\n",
      "\tuint32_t u32My_var = 5;\n",
      "}\n",
      "else if (false)\n",
      "{\n",
      "\tuint8_t u8My_array[10];\n",
      "}\n",
      "else \n",
      "{\n",
      "\tuint32_t u32My_var = 5;\n",
      "}\n",
      "\n"
     ]
    }
   ],
   "source": [
    "c_if = CIf(\n",
    "    CLiteral(True),\n",
    "    [\n",
    "        var.declare()\n",
    "    ]\n",
    ").ELSE_IF(\n",
    "    CLiteral(False),\n",
    "    [\n",
    "        array.declare()\n",
    "    ]\n",
    ").ELSE(\n",
    "    [\n",
    "        var.declare()\n",
    "    ]\n",
    ")\n",
    "print(c_if.render())"
   ]
  },
  {
   "cell_type": "markdown",
   "metadata": {},
   "source": [
    "## Switch"
   ]
  },
  {
   "cell_type": "code",
   "execution_count": 17,
   "metadata": {
    "scrolled": true
   },
   "outputs": [
    {
     "name": "stdout",
     "output_type": "stream",
     "text": [
      "switch (i)\n",
      "{\n",
      "\tcase 1:\n",
      "\t\tuint32_t u32My_var = 5;\n",
      "\t\tbreak;\n",
      "\tdefault:\n",
      "\t\tuint8_t u8My_array[10];\n",
      "\t\tbreak;\n",
      "}\n",
      "\n"
     ]
    }
   ],
   "source": [
    "c_switch = CSwitch(\n",
    "    CExpressionFreeStyle('i'),\n",
    "    [\n",
    "        CSwitch.Case(\n",
    "            CLiteral(1),\n",
    "            [\n",
    "                var.declare()\n",
    "            ]\n",
    "        ),\n",
    "        CSwitch.Default(\n",
    "            [\n",
    "                array.declare()\n",
    "            ]\n",
    "        )\n",
    "    ]\n",
    ")\n",
    "print(c_switch.render())"
   ]
  },
  {
   "cell_type": "markdown",
   "metadata": {},
   "source": [
    "## While"
   ]
  },
  {
   "cell_type": "code",
   "execution_count": 18,
   "metadata": {},
   "outputs": [
    {
     "name": "stdout",
     "output_type": "stream",
     "text": [
      "while (i < 3)\n",
      "{\n",
      "\tuint32_t u32My_var = 5;\n",
      "\tcontinue;\n",
      "}\n",
      "\n"
     ]
    }
   ],
   "source": [
    "c_while = CWhile(\n",
    "    CExpressionFreeStyle('i < 3'),\n",
    "    [\n",
    "        var.declare(),\n",
    "        CContinue()\n",
    "    ]\n",
    ")\n",
    "print(c_while.render())"
   ]
  },
  {
   "cell_type": "markdown",
   "metadata": {},
   "source": [
    "## Do While"
   ]
  },
  {
   "cell_type": "code",
   "execution_count": 19,
   "metadata": {},
   "outputs": [
    {
     "name": "stdout",
     "output_type": "stream",
     "text": [
      "do\n",
      "{\n",
      "\tuint32_t u32My_var = 5;\n",
      "\tbreak;\n",
      "}\n",
      "while (false)\n"
     ]
    }
   ],
   "source": [
    "c_do_while = CDoWhile(\n",
    "    [\n",
    "        var.declare(),\n",
    "        CBreak()\n",
    "    ],\n",
    "    CLiteral(False)\n",
    ")\n",
    "print(c_do_while.render())"
   ]
  },
  {
   "cell_type": "markdown",
   "metadata": {},
   "source": [
    "## For"
   ]
  },
  {
   "cell_type": "code",
   "execution_count": 20,
   "metadata": {},
   "outputs": [
    {
     "name": "stdout",
     "output_type": "stream",
     "text": [
      "for (;;)\n",
      "{\n",
      "\tuint32_t u32My_var = 5;\n",
      "}\n",
      "\n"
     ]
    }
   ],
   "source": [
    "c_empty_for = CFor(\n",
    "    statements=[\n",
    "        var.declare()\n",
    "    ]\n",
    ")\n",
    "print(c_empty_for.render())"
   ]
  },
  {
   "cell_type": "code",
   "execution_count": 21,
   "metadata": {},
   "outputs": [
    {
     "name": "stdout",
     "output_type": "stream",
     "text": [
      "for (i=0; i<10; i++)\n",
      "{\n",
      "\tuint32_t u32My_var = 5;\n",
      "\treturn u32My_var;\n",
      "}\n",
      "\n"
     ]
    }
   ],
   "source": [
    "c_for = CFor(\n",
    "    initial=CStatementFreeStyle('i=0'),\n",
    "    condition=CExpressionFreeStyle('i<10'),\n",
    "    iteration=CExpressionFreeStyle('i++'),\n",
    "    statements=[\n",
    "        var.declare(),\n",
    "        CReturn(var)\n",
    "    ]\n",
    ")\n",
    "print(c_for.render())"
   ]
  }
 ],
 "metadata": {
  "celltoolbar": "Edit Metadata",
  "kernelspec": {
   "display_name": "Python 3",
   "language": "python",
   "name": "python3"
  },
  "language_info": {
   "codemirror_mode": {
    "name": "ipython",
    "version": 3
   },
   "file_extension": ".py",
   "mimetype": "text/x-python",
   "name": "python",
   "nbconvert_exporter": "python",
   "pygments_lexer": "ipython3",
   "version": "3.6.5"
  }
 },
 "nbformat": 4,
 "nbformat_minor": 1
}