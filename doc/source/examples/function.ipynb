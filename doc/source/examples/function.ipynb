{
 "cells": [
  {
   "cell_type": "markdown",
   "metadata": {},
   "source": [
    "# Function\n"
   ]
  },
  {
   "cell_type": "code",
   "execution_count": 1,
   "metadata": {
    "pycharm": {
     "name": "#%%\n"
    },
    "tags": [
     "remove-cell"
    ]
   },
   "outputs": [],
   "source": [
    "import sys\n",
    "sys.path.append(\"..\\..\\..\") \n",
    "from ccg import *"
   ]
  },
  {
   "cell_type": "code",
   "execution_count": 2,
   "metadata": {
    "pycharm": {
     "name": "#%%\n"
    }
   },
   "outputs": [],
   "source": [
    "f = CFunction(\n",
    "        name=\"examplefun\",\n",
    "        return_type=Cuint32,\n",
    "        arguments=[\n",
    "            CFunction.Argument(name=\"first\", c_type=Cuint32, doc=Doc(\"First argument\")),\n",
    "            CFunction.Argument(name=\"second\", c_type=Cdouble, default=CLiteral(2), doc=Doc(\"Second Argument\"))\n",
    "        ],\n",
    "        static=True,\n",
    "        doc=Doc(\"Awesome function\", \"This function is awesome because it does marvellous things\",\n",
    "                ret=\"returns a lucky number\")\n",
    "    )"
   ]
  },
  {
   "cell_type": "code",
   "execution_count": 3,
   "metadata": {
    "pycharm": {
     "name": "#%%\n"
    }
   },
   "outputs": [
    {
     "name": "stdout",
     "output_type": "stream",
     "text": [
      "/**\n",
      " * @brief Awesome function\n",
      " * \n",
      " * This function is awesome because it does marvellous things\n",
      " * @param first First argument\n",
      " * @param second Second Argument\n",
      " * @return returns a lucky number\n",
      " */\n",
      "static uint32_t \n",
      "examplefun(uint32_t first, double second = 2);\n"
     ]
    }
   ],
   "source": [
    "print(f.declaration())"
   ]
  },
  {
   "cell_type": "code",
   "execution_count": 4,
   "metadata": {},
   "outputs": [
    {
     "name": "stdout",
     "output_type": "stream",
     "text": [
      "static uint32_t examplefun(uint32_t first, double second)\n",
      "{\n",
      "\n",
      "}\n"
     ]
    }
   ],
   "source": [
    "print(f.definition())"
   ]
  }
 ],
 "metadata": {
  "celltoolbar": "Edit Metadata",
  "kernelspec": {
   "display_name": "Python 3",
   "language": "python",
   "name": "python3"
  },
  "language_info": {
   "codemirror_mode": {
    "name": "ipython",
    "version": 3
   },
   "file_extension": ".py",
   "mimetype": "text/x-python",
   "name": "python",
   "nbconvert_exporter": "python",
   "pygments_lexer": "ipython3",
   "version": "3.6.5"
  }
 },
 "nbformat": 4,
 "nbformat_minor": 1
}
