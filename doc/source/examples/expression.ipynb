{
 "cells": [
  {
   "cell_type": "markdown",
   "metadata": {},
   "source": [
    "# Expression\n"
   ]
  },
  {
   "cell_type": "code",
   "execution_count": 1,
   "metadata": {
    "pycharm": {
     "name": "#%%\n"
    },
    "tags": [
     "remove-cell"
    ]
   },
   "outputs": [],
   "source": [
    "import sys\n",
    "sys.path.append(\"..\\..\\..\") \n",
    "from ccg import *"
   ]
  },
  {
   "cell_type": "markdown",
   "metadata": {},
   "source": [
    "## Cast and Literals"
   ]
  },
  {
   "cell_type": "code",
   "execution_count": 2,
   "metadata": {},
   "outputs": [
    {
     "name": "stdout",
     "output_type": "stream",
     "text": [
      "int8_t i8Mycustomint = (int8_t)12U;\n"
     ]
    }
   ],
   "source": [
    "var = CVariable(\n",
    "    c_type=Cint8,\n",
    "    name=\"i8Mycustomint\",\n",
    "    initial_value=CCast(Cint8, CLiteral(12, c_type=Cuint8, literal_format=CLiteral.Format.decimal))\n",
    ")\n",
    "print(var.declare().render())"
   ]
  },
  {
   "cell_type": "code",
   "execution_count": 3,
   "metadata": {},
   "outputs": [
    {
     "name": "stdout",
     "output_type": "stream",
     "text": [
      "uint8_t i8Mycustomint = (uint8_t)014U;\n"
     ]
    }
   ],
   "source": [
    "var.c_type = Cuint8\n",
    "var.initial_value = CCast(Cuint8, CLiteral(12, c_type=Cuint8, literal_format=CLiteral.Format.octal))\n",
    "print(var.declare().render())"
   ]
  },
  {
   "cell_type": "code",
   "execution_count": 4,
   "metadata": {},
   "outputs": [
    {
     "name": "stdout",
     "output_type": "stream",
     "text": [
      "uint8_t i8Mycustomint = (uint8_t)0xcU;\n"
     ]
    }
   ],
   "source": [
    "var.initial_value = CCast(Cuint8, CLiteral(12, c_type=Cuint8, literal_format=CLiteral.Format.hexadecimal))\n",
    "print(var.declare().render())"
   ]
  },
  {
   "cell_type": "code",
   "execution_count": 5,
   "metadata": {},
   "outputs": [
    {
     "name": "stdout",
     "output_type": "stream",
     "text": [
      "uint8_t i8Mycustomint = (uint8_t)0b1100U;\n"
     ]
    }
   ],
   "source": [
    "var.initial_value = CCast(Cuint8, CLiteral(12, c_type=Cuint8, literal_format=CLiteral.Format.binary))\n",
    "print(var.declare().render())"
   ]
  },
  {
   "cell_type": "code",
   "execution_count": 6,
   "metadata": {},
   "outputs": [
    {
     "name": "stdout",
     "output_type": "stream",
     "text": [
      "float i8Mycustomint = (float)12.0f;\n"
     ]
    }
   ],
   "source": [
    "var.c_type = Cfloat\n",
    "var.initial_value = CCast(Cfloat, CLiteral(12, c_type=Cfloat, literal_format=CLiteral.Format.float_decimals))\n",
    "print(var.declare().render())"
   ]
  },
  {
   "cell_type": "code",
   "execution_count": 7,
   "metadata": {},
   "outputs": [
    {
     "name": "stdout",
     "output_type": "stream",
     "text": [
      "float i8Mycustomint = (float)1.200000e+01f;\n"
     ]
    }
   ],
   "source": [
    "var.initial_value = CCast(Cfloat, CLiteral(12, c_type=Cfloat, literal_format=CLiteral.Format.float_scientific))\n",
    "print(var.declare().render())"
   ]
  },
  {
   "cell_type": "markdown",
   "metadata": {},
   "source": [
    "# Operators"
   ]
  },
  {
   "cell_type": "code",
   "execution_count": 8,
   "metadata": {},
   "outputs": [
    {
     "name": "stdout",
     "output_type": "stream",
     "text": [
      "!false\n"
     ]
    }
   ],
   "source": [
    "NOT = COperators.Logic.Not\n",
    "print(NOT(CLiteral(False)).render())"
   ]
  },
  {
   "cell_type": "code",
   "execution_count": 9,
   "metadata": {},
   "outputs": [
    {
     "name": "stdout",
     "output_type": "stream",
     "text": [
      "(2 + 3)\n"
     ]
    }
   ],
   "source": [
    "SUM = COperators.Arithmetic.Sum\n",
    "PARENTHESES = COperators.Parentheses\n",
    "print(\n",
    "    PARENTHESES(\n",
    "        SUM(CLiteral(2), CLiteral(3))\n",
    "    ).render()\n",
    ")"
   ]
  },
  {
   "cell_type": "code",
   "execution_count": 10,
   "metadata": {},
   "outputs": [
    {
     "name": "stdout",
     "output_type": "stream",
     "text": [
      "a = 5\n"
     ]
    }
   ],
   "source": [
    "ASSIGN = COperators.Assignment.Assign\n",
    "print(\n",
    "    ASSIGN(\n",
    "        CExpressionFreeStyle(\"a\"),\n",
    "        CLiteral(5)\n",
    "    ).render()\n",
    ")"
   ]
  },
  {
   "cell_type": "code",
   "execution_count": 11,
   "metadata": {},
   "outputs": [
    {
     "name": "stdout",
     "output_type": "stream",
     "text": [
      "(i8Mycustomint + 2 - 3 * 4 / 5 % 6 << 7 >> 8 && true || false + (-9) + (+2) + (!false))\n"
     ]
    }
   ],
   "source": [
    "PARENTHESES = COperators.Parentheses\n",
    "print(\n",
    "    PARENTHESES(\n",
    "        # Typical operations (sum, subtract...) can be done using python built-in operations\n",
    "        var + CLiteral(2) - CLiteral(3) * CLiteral(4) / CLiteral(5) % CLiteral(6)\n",
    "        << CLiteral(7) >> CLiteral(8) & CLiteral(True) | CLiteral(False)\n",
    "        + PARENTHESES(\n",
    "            -CLiteral(9)  # Unary minus\n",
    "        )\n",
    "        + PARENTHESES(\n",
    "            +CLiteral(2)  # Unary Plus\n",
    "        )\n",
    "        + PARENTHESES(\n",
    "            ~CLiteral(False)  # Invert\n",
    "        )\n",
    "    ).render()\n",
    ")"
   ]
  }
 ],
 "metadata": {
  "celltoolbar": "Edit Metadata",
  "kernelspec": {
   "display_name": "Python 3",
   "language": "python",
   "name": "python3"
  },
  "language_info": {
   "codemirror_mode": {
    "name": "ipython",
    "version": 3
   },
   "file_extension": ".py",
   "mimetype": "text/x-python",
   "name": "python",
   "nbconvert_exporter": "python",
   "pygments_lexer": "ipython3",
   "version": "3.6.5"
  }
 },
 "nbformat": 4,
 "nbformat_minor": 1
}
