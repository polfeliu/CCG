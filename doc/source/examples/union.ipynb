{
 "cells": [
  {
   "cell_type": "markdown",
   "metadata": {},
   "source": [
    "# Union\n"
   ]
  },
  {
   "cell_type": "code",
   "execution_count": 5,
   "metadata": {
    "pycharm": {
     "name": "#%%\n"
    },
    "tags": [
     "remove-cell"
    ]
   },
   "outputs": [],
   "source": [
    "from ccg import *"
   ]
  },
  {
   "cell_type": "code",
   "execution_count": 6,
   "metadata": {
    "pycharm": {
     "name": "#%%\n"
    }
   },
   "outputs": [],
   "source": [
    "example_union_def = CUnionDef(\"TExamplestruct\", members=[\n",
    "        CVariable(\"i8Title\", Cint8),\n",
    "        CVariable(\"i8Asdf\", Cint8),\n",
    "        CArray(\"i8Name\", c_type=Cint8, length=3),\n",
    "        CVariable(\"tNestedstruct\", c_type=CUnionDef(\n",
    "            # This union def is anonymous\n",
    "            members=[\n",
    "                CVariable(\"i64Qwer\", Cint64),\n",
    "            ]),\n",
    "                  ),\n",
    "\n",
    "        CVariable(\"tNestedstruct2\", c_type=CUnionDef(\n",
    "            \"TNestedstruct2\",\n",
    "            members=[\n",
    "                CVariable(\"i64Qwer\", Cint64),\n",
    "            ]).union,  # Reference the union type, not the def, and its not declared inplace\n",
    "                  )\n",
    "    ])"
   ]
  },
  {
   "cell_type": "code",
   "execution_count": 8,
   "metadata": {
    "pycharm": {
     "name": "#%%\n"
    }
   },
   "outputs": [
    {
     "name": "stdout",
     "output_type": "stream",
     "text": [
      "union TExamplestruct\n",
      "{\n",
      "\tint8_t i8Title;\n",
      "\tint8_t i8Asdf;\n",
      "\tint8_t i8Name[3];\n",
      "\tunion \n",
      "\t{\n",
      "\t\tint8_t i64Qwer;\n",
      "\t} tNestedstruct;\n",
      "\tunion TNestedstruct2 tNestedstruct2;\n",
      "}\n"
     ]
    }
   ],
   "source": [
    "# Declaration of struct definition\n",
    "print(example_union_def.declaration())"
   ]
  },
  {
   "cell_type": "code",
   "execution_count": 9,
   "metadata": {},
   "outputs": [
    {
     "name": "stdout",
     "output_type": "stream",
     "text": [
      "union TExamplestruct\n",
      "{\n",
      "\tint8_t i8Title;\n",
      "\tint8_t i8Asdf;\n",
      "\tint8_t i8Name[3];\n",
      "\tunion \n",
      "\t{\n",
      "\t\tint8_t i64Qwer;\n",
      "\t} tNestedstruct;\n",
      "\tunion TNestedstruct2 tNestedstruct2;\n",
      "} tInst;\n"
     ]
    }
   ],
   "source": [
    "# Can declare a struct with a variable in the same sentence\n",
    "print(CVariable(\"tInst\", c_type=example_union_def).declaration())"
   ]
  },
  {
   "cell_type": "code",
   "execution_count": 10,
   "metadata": {},
   "outputs": [
    {
     "name": "stdout",
     "output_type": "stream",
     "text": [
      "union TExamplestruct tInst;\n"
     ]
    }
   ],
   "source": [
    "# Or assume the struct is already declared and use it as type\n",
    "print(CVariable(\"tInst\", c_type=example_union_def.union).declaration())"
   ]
  },
  {
   "cell_type": "code",
   "execution_count": 11,
   "metadata": {},
   "outputs": [
    {
     "name": "stdout",
     "output_type": "stream",
     "text": [
      "typedef union TExamplestruct\n",
      "{\n",
      "\tint8_t i8Title;\n",
      "\tint8_t i8Asdf;\n",
      "\tint8_t i8Name[3];\n",
      "\tunion \n",
      "\t{\n",
      "\t\tint8_t i64Qwer;\n",
      "\t} tNestedstruct;\n",
      "\tunion TNestedstruct2 tNestedstruct2;\n",
      "} TMyStruct;\n"
     ]
    }
   ],
   "source": [
    "# Can do a typedef of the struct with the declaration of the struct inplace\n",
    "print(example_union_def.type(\"TMyStruct\").typedef())"
   ]
  },
  {
   "cell_type": "code",
   "execution_count": 12,
   "metadata": {},
   "outputs": [
    {
     "name": "stdout",
     "output_type": "stream",
     "text": [
      "typedef union TExamplestruct TMyStruct;\n"
     ]
    }
   ],
   "source": [
    "# Or the struct is already declared and can be typedefed afterwards\n",
    "print(example_union_def.union.type(\"TMyStruct\").typedef())"
   ]
  },
  {
   "cell_type": "code",
   "execution_count": null,
   "metadata": {},
   "outputs": [],
   "source": []
  }
 ],
 "metadata": {
  "celltoolbar": "Edit Metadata",
  "kernelspec": {
   "display_name": "Python 3",
   "language": "python",
   "name": "python3"
  },
  "language_info": {
   "codemirror_mode": {
    "name": "ipython",
    "version": 3
   },
   "file_extension": ".py",
   "mimetype": "text/x-python",
   "name": "python",
   "nbconvert_exporter": "python",
   "pygments_lexer": "ipython3",
   "version": "3.6.5"
  }
 },
 "nbformat": 4,
 "nbformat_minor": 1
}
