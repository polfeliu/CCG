{
 "cells": [
  {
   "cell_type": "markdown",
   "metadata": {},
   "source": [
    "# Union\n"
   ]
  },
  {
   "cell_type": "code",
   "execution_count": 1,
   "metadata": {
    "pycharm": {
     "name": "#%%\n"
    },
    "tags": [
     "remove-cell"
    ]
   },
   "outputs": [],
   "source": [
    "import sys\n",
    "sys.path.append(\"..\\..\\..\") \n",
    "from ccg import *"
   ]
  },
  {
   "cell_type": "code",
   "execution_count": 2,
   "metadata": {
    "pycharm": {
     "name": "#%%\n"
    }
   },
   "outputs": [],
   "source": [
    "example_union_def = CUnionDef(\n",
    "    \"ExampleUnion\",\n",
    "    doc=Doc(\"Example Union\", \"This union has many schrodinger's cat members\"),\n",
    "    members=[\n",
    "        CVariable(\"i8Title\", Cint8, doc=Doc(\"Title\")),\n",
    "        CVariable(\"i8Asdf\", Cint8, doc=Doc(\"Random variable\")),\n",
    "        CArray(\"i8Name\", c_type=Cint8, length=3),\n",
    "        CVariable(\"tNestedUnion\", c_type=CUnionDef(\n",
    "            # This union def is anonymous\n",
    "            members=[\n",
    "                CVariable(\"i64Qwer\", Cint64),\n",
    "            ]),\n",
    "                  ),\n",
    "\n",
    "        CVariable(\"tNestedUnion2\", c_type=CUnionDef(\n",
    "            \"TNestedUnion2\",\n",
    "            members=[\n",
    "                CVariable(\"i64Qwer\", Cint64),\n",
    "            ]).union,  # Reference the union type, not the def, and its not declared inplace\n",
    "                  )\n",
    "    ])"
   ]
  },
  {
   "cell_type": "code",
   "execution_count": 3,
   "metadata": {
    "pycharm": {
     "name": "#%%\n"
    }
   },
   "outputs": [
    {
     "name": "stdout",
     "output_type": "stream",
     "text": [
      "/**\n",
      " * @brief Example Union\n",
      " * \n",
      " * This union has many schrodinger's cat members\n",
      " */\n",
      "union ExampleUnion\n",
      "{\n",
      "\t/** @brief Title */\n",
      "\tint8_t i8Title;\n",
      "\t/** @brief Random variable */\n",
      "\tint8_t i8Asdf;\n",
      "\tint8_t i8Name[3];\n",
      "\tunion \n",
      "\t{\n",
      "\t\tint8_t i64Qwer;\n",
      "\t}\n",
      "\t tNestedUnion;\n",
      "\tunion TNestedUnion2 tNestedUnion2;\n",
      "}\n",
      ";\n"
     ]
    }
   ],
   "source": [
    "# Declaration of struct definition\n",
    "print(example_union_def.declare().render())"
   ]
  },
  {
   "cell_type": "code",
   "execution_count": 4,
   "metadata": {},
   "outputs": [
    {
     "name": "stdout",
     "output_type": "stream",
     "text": [
      "/**\n",
      " * @brief Example Union\n",
      " * \n",
      " * This union has many schrodinger's cat members\n",
      " */\n",
      "union ExampleUnion\n",
      "{\n",
      "\t/** @brief Title */\n",
      "\tint8_t i8Title;\n",
      "\t/** @brief Random variable */\n",
      "\tint8_t i8Asdf;\n",
      "\tint8_t i8Name[3];\n",
      "\tunion \n",
      "\t{\n",
      "\t\tint8_t i64Qwer;\n",
      "\t}\n",
      "\t tNestedUnion;\n",
      "\tunion TNestedUnion2 tNestedUnion2;\n",
      "}\n",
      " tInst;\n"
     ]
    }
   ],
   "source": [
    "# Can declare a struct with a variable in the same sentence\n",
    "print(CVariable(\"tInst\", c_type=example_union_def).declare().render())"
   ]
  },
  {
   "cell_type": "code",
   "execution_count": 5,
   "metadata": {},
   "outputs": [
    {
     "name": "stdout",
     "output_type": "stream",
     "text": [
      "union ExampleUnion tInst;\n"
     ]
    }
   ],
   "source": [
    "# Or assume the struct is already declared and use it as type\n",
    "print(CVariable(\"tInst\", c_type=example_union_def.union).declare().render())"
   ]
  },
  {
   "cell_type": "code",
   "execution_count": 6,
   "metadata": {},
   "outputs": [
    {
     "name": "stdout",
     "output_type": "stream",
     "text": [
      "typedef union ExampleUnion\n",
      "{\n",
      "\t/** @brief Title */\n",
      "\tint8_t i8Title;\n",
      "\t/** @brief Random variable */\n",
      "\tint8_t i8Asdf;\n",
      "\tint8_t i8Name[3];\n",
      "\tunion \n",
      "\t{\n",
      "\t\tint8_t i64Qwer;\n",
      "\t}\n",
      "\t tNestedUnion;\n",
      "\tunion TNestedUnion2 tNestedUnion2;\n",
      "}\n",
      " TMyStruct;\n"
     ]
    }
   ],
   "source": [
    "# Can do a typedef of the struct with the declaration of the struct inplace\n",
    "print(example_union_def.type(\"TMyStruct\").typedef().render())"
   ]
  },
  {
   "cell_type": "code",
   "execution_count": 7,
   "metadata": {},
   "outputs": [
    {
     "name": "stdout",
     "output_type": "stream",
     "text": [
      "typedef union ExampleUnion TMyStruct;\n"
     ]
    }
   ],
   "source": [
    "# Or the struct is already declared and can be typedefed afterwards\n",
    "print(example_union_def.union.type(\"TMyStruct\").typedef().render())"
   ]
  }
 ],
 "metadata": {
  "celltoolbar": "Edit Metadata",
  "kernelspec": {
   "display_name": "Python 3",
   "language": "python",
   "name": "python3"
  },
  "language_info": {
   "codemirror_mode": {
    "name": "ipython",
    "version": 3
   },
   "file_extension": ".py",
   "mimetype": "text/x-python",
   "name": "python",
   "nbconvert_exporter": "python",
   "pygments_lexer": "ipython3",
   "version": "3.6.5"
  }
 },
 "nbformat": 4,
 "nbformat_minor": 1
}
